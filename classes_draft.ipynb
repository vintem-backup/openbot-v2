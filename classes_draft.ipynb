{
 "cells": [
  {
   "cell_type": "code",
   "execution_count": 9,
   "metadata": {},
   "outputs": [],
   "source": [
    "import importlib"
   ]
  },
  {
   "cell_type": "code",
   "execution_count": null,
   "metadata": {},
   "outputs": [],
   "source": [
    "'''Uma extensao de métodos para pandas dataframe, contendo algumas abstrações de \n",
    "operações sobre dados de mercado\n",
    "'''\n",
    "\n",
    "@pd.api.extensions.register_dataframe_accessor(\"market_tool\")\n",
    "class MarketTool:\n",
    "    \n",
    "    def __init()__(self, pandas_obj):\n",
    "        \n",
    "        self._validate(obj)\n",
    "        self._obj = pandas_obj\n",
    "        \n",
    "    \n",
    "    @staticmethod\n",
    "    def _validate(obj):\n",
    "        \n",
    "        if (('open_time' and 'open' and 'close' and \n",
    "             'high' and 'low' and 'volume') not in obj.columns):\n",
    "            \n",
    "            raise AttributeError(\"Must have to be a market data.\")\n",
    "    \n",
    "    #@property\n",
    "    def check_position(self, checker_id, checker_setup):\n",
    "        \n",
    "        checker = checker_id + \"('\" + setup + \"')\"\n",
    "        \n",
    "        check = eval(checker)\n",
    "        \n",
    "        position = check.get_position(self._obj)\n",
    "        \n",
    "        return position\n",
    "    \n",
    "    \n",
    "    def refresh_with(self, fresh_data):\n",
    "        pass\n",
    "    \n",
    "    def get_price(self, price_source):\n",
    "        pass\n",
    "\n",
    "\n",
    "\n",
    "class SimpleMoveAverageIndicator:\n",
    "    \n",
    "    def __init__(price_source, market_dataframe):\n",
    "        \n",
    "        self.price_serie = market_dataframe.get_price(price_source)\n",
    "    \n",
    "    def apply(n_samples):\n",
    "        \n",
    "        return sma_serie\n",
    "\n",
    "    \n",
    "\n",
    "class CrossSimpleMoveAvarage:\n",
    "    \n",
    "    def __init__(setup):\n",
    "        \n",
    "        self.price_source = setup.price_source\n",
    "        self.small_n = setup.small_n\n",
    "        self.big_n = setup.big_n\n",
    "        \n",
    "    \n",
    "    def get_position(market_dataframe):\n",
    "        \n",
    "        indicator = SimpleMaIndicator(self.price_source, market_dataframe)\n",
    "        \n",
    "        last_small_sma = indicator.apply(self.small_n)#.last\n",
    "        \n",
    "        last_big_sma = indicator.apply(self.small_n)#.last\n",
    "        \n",
    "        if (last_small_sma > last_big_sma): position = 'long'\n",
    "        else: position = 'short'\n",
    "            \n",
    "            #Retornar objeto em vez de texto\n",
    "        \n",
    "        \n",
    "        \n",
    "        \n",
    "        \n",
    "        \n",
    "        last_small_sma = market_data_frame.aplly_indicator(\n",
    "        \"simple_ma\", \n",
    "            price_source = self.price_source, \n",
    "            n_samples = self.small_n\n",
    "        )\n",
    "        \n",
    "        last_big_sma = market_data_frame.aplly_indicator(\n",
    "        \"simple_ma\", \n",
    "            price_source = self.price_source, \n",
    "            n_samples = self.big_n\n",
    "        )\n",
    "        "
   ]
  },
  {
   "cell_type": "code",
   "execution_count": null,
   "metadata": {},
   "outputs": [],
   "source": [
    "class OperationMetaData:\n",
    "    '''Atributos da operação e os métodos aplicados sobre esses atributos, \n",
    "    além de métodos correlacionados\n",
    "    '''\n",
    "    pass\n",
    "\n",
    "\n",
    "\n",
    "class BinanceBroker:\n",
    "    pass\n",
    "\n",
    "class Trader:\n",
    "    \n",
    "    def __init__(self, metadata_id):\n",
    "        \n",
    "        self.metadata = OperationMetaData(metadata_id)\n",
    "        \n",
    "        self.broker = getattr(\n",
    "            importlib.import_module(\n",
    "                \"broker.models\"),\n",
    "            self.metadata.broker_id)(self.metadata.market_info)\n",
    "        \n",
    "        self.raw_data = self.broker.get_historical_data() #dataframe\n",
    "    \n",
    "    def run_real_trade(self):\n",
    "        \n",
    "        fresh_data = self.broker.get_fresh_data()\n",
    "        \n",
    "        self.raw_data.market_tool.refresh_with(fresh_data)\n",
    "        \n",
    "        data_to_analyze = self.raw_data.trasnsform_candle_to(\n",
    "            self.metadata.market_info.work_candle_interval)\n",
    "\n",
    "        position = data_to_analyze.market_tool.check_position(\n",
    "            self.metadata.check_position_criteria\n",
    "        )\n",
    "\n",
    "        stop = data_to_analyze.market_tool.check_stop(\n",
    "            self.metadata.check_stop_criteria, \n",
    "            self.metadata.position\n",
    "        )\n",
    "        \n",
    "        self.metadata.position.update(position, stop)"
   ]
  },
  {
   "cell_type": "code",
   "execution_count": null,
   "metadata": {},
   "outputs": [],
   "source": []
  },
  {
   "cell_type": "code",
   "execution_count": 2,
   "metadata": {},
   "outputs": [],
   "source": [
    "from broker.models import BinanceBroker"
   ]
  },
  {
   "cell_type": "code",
   "execution_count": 7,
   "metadata": {},
   "outputs": [],
   "source": [
    "broker = BinanceBroker('test-param')"
   ]
  },
  {
   "cell_type": "code",
   "execution_count": 14,
   "metadata": {},
   "outputs": [],
   "source": [
    "broker = getattr(\n",
    "    importlib.import_module(\n",
    "        \"broker.models\"),\n",
    "    'BinanceBroker')('test_param')"
   ]
  },
  {
   "cell_type": "code",
   "execution_count": null,
   "metadata": {},
   "outputs": [],
   "source": []
  },
  {
   "cell_type": "code",
   "execution_count": null,
   "metadata": {},
   "outputs": [],
   "source": []
  },
  {
   "cell_type": "code",
   "execution_count": null,
   "metadata": {},
   "outputs": [],
   "source": []
  },
  {
   "cell_type": "code",
   "execution_count": 15,
   "metadata": {},
   "outputs": [
    {
     "name": "stdout",
     "output_type": "stream",
     "text": [
      "historical_method received:  test_param\n"
     ]
    }
   ],
   "source": [
    "broker.get_historical_data()"
   ]
  },
  {
   "cell_type": "code",
   "execution_count": null,
   "metadata": {},
   "outputs": [],
   "source": [
    "broker.get_fresh_data()"
   ]
  },
  {
   "cell_type": "code",
   "execution_count": 74,
   "metadata": {},
   "outputs": [],
   "source": [
    "def function_test(executor_name, param1):\n",
    "    \n",
    "    executor = executor_name + \"('\" + param1 + \"')\"\n",
    "    \n",
    "    executor = eval(executor)\n",
    "    \n",
    "    return executor#.run('Marcus')\n",
    "\n",
    "class Executor:\n",
    "    \n",
    "    def __init__(self,param):\n",
    "        \n",
    "        self.param = param\n",
    "        \n",
    "    def run(self, param2):\n",
    "        \n",
    "        print(self.param, param2)\n"
   ]
  },
  {
   "cell_type": "code",
   "execution_count": 76,
   "metadata": {},
   "outputs": [
    {
     "name": "stdout",
     "output_type": "stream",
     "text": [
      "Hello Word Joao\n"
     ]
    }
   ],
   "source": [
    "function_test('Executor', 'Hello Word').run('Joao')"
   ]
  },
  {
   "cell_type": "code",
   "execution_count": 23,
   "metadata": {},
   "outputs": [],
   "source": [
    "executor_name = 'Executor'\n",
    "test_param = 'Hello world'\n",
    "\n",
    "executor = executor_name + '(' + test_param + ')'"
   ]
  },
  {
   "cell_type": "code",
   "execution_count": 24,
   "metadata": {},
   "outputs": [
    {
     "name": "stdout",
     "output_type": "stream",
     "text": [
      "Executor(Hello world)\n"
     ]
    }
   ],
   "source": [
    "print(executor)"
   ]
  },
  {
   "cell_type": "code",
   "execution_count": null,
   "metadata": {},
   "outputs": [],
   "source": []
  },
  {
   "cell_type": "code",
   "execution_count": null,
   "metadata": {},
   "outputs": [],
   "source": []
  },
  {
   "cell_type": "code",
   "execution_count": null,
   "metadata": {},
   "outputs": [],
   "source": []
  },
  {
   "cell_type": "code",
   "execution_count": null,
   "metadata": {},
   "outputs": [],
   "source": []
  },
  {
   "cell_type": "code",
   "execution_count": null,
   "metadata": {},
   "outputs": [],
   "source": []
  },
  {
   "cell_type": "code",
   "execution_count": null,
   "metadata": {},
   "outputs": [],
   "source": []
  },
  {
   "cell_type": "code",
   "execution_count": null,
   "metadata": {},
   "outputs": [],
   "source": []
  }
 ],
 "metadata": {
  "kernelspec": {
   "display_name": "Django Shell-Plus",
   "language": "python",
   "name": "django_extensions"
  },
  "language_info": {
   "codemirror_mode": {
    "name": "ipython",
    "version": 3
   },
   "file_extension": ".py",
   "mimetype": "text/x-python",
   "name": "python",
   "nbconvert_exporter": "python",
   "pygments_lexer": "ipython3",
   "version": "3.7.4"
  }
 },
 "nbformat": 4,
 "nbformat_minor": 2
}
